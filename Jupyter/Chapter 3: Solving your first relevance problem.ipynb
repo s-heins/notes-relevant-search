{
 "cells": [
  {
   "attachments": {},
   "cell_type": "markdown",
   "metadata": {},
   "source": [
    "# Relevant Search"
   ]
  },
  {
   "attachments": {},
   "cell_type": "markdown",
   "metadata": {},
   "source": [
    "## Loading TMDB.json into local Elasticsearch"
   ]
  },
  {
   "cell_type": "code",
   "execution_count": 1,
   "metadata": {},
   "outputs": [
    {
     "ename": "ModuleNotFoundError",
     "evalue": "No module named 'requests'",
     "output_type": "error",
     "traceback": [
      "\u001B[0;31m---------------------------------------------------------------------------\u001B[0m",
      "\u001B[0;31mModuleNotFoundError\u001B[0m                       Traceback (most recent call last)",
      "Cell \u001B[0;32mIn[1], line 1\u001B[0m\n\u001B[0;32m----> 1\u001B[0m \u001B[38;5;28;01mimport\u001B[39;00m \u001B[38;5;21;01mrequests\u001B[39;00m  \u001B[38;5;66;03m# HTTP lib\u001B[39;00m\n\u001B[1;32m      2\u001B[0m \u001B[38;5;28;01mimport\u001B[39;00m \u001B[38;5;21;01mjson\u001B[39;00m  \u001B[38;5;66;03m# json parsing\u001B[39;00m\n\u001B[1;32m      4\u001B[0m \u001B[38;5;66;03m# docker run --name elasticsearch --net elastic -p 9200:9200 -p 9300:9300 -e \"discovery.type=single-node\" -e \"xpack.security.enabled=false\" -t docker.elastic.co/elasticsearch/elasticsearch:8.6.1\u001B[39;00m\n",
      "\u001B[0;31mModuleNotFoundError\u001B[0m: No module named 'requests'"
     ]
    }
   ],
   "source": [
    "import requests  # HTTP lib\n",
    "import json  # json parsing\n",
    "\n",
    "# docker run --name elasticsearch --net elastic -p 9200:9200 -p 9300:9300 -e \"discovery.type=single-node\" -e \"xpack.security.enabled=false\" -t docker.elastic.co/elasticsearch/elasticsearch:8.6.1\n",
    "host = \"http://localhost:9200/\"\n",
    "index = \"tmdb\"\n",
    "indexBaseUrl = host + index\n",
    "headers = {\"Content-Type\": \"application/json\"}"
   ]
  },
  {
   "cell_type": "code",
   "execution_count": null,
   "metadata": {},
   "outputs": [],
   "source": [
    "def toJsonPrettyPrint(response):\n",
    "    print(json.dumps(json.loads(response), indent=2))"
   ]
  },
  {
   "cell_type": "code",
   "execution_count": null,
   "metadata": {},
   "outputs": [],
   "source": [
    "def extract():\n",
    "    f = open('tmdb.json')\n",
    "    if f:\n",
    "        return json.loads(f.read())\n",
    "\n",
    "\n",
    "def reindex(analysisSettings={}, mappingSettings={}, movieDict={}):\n",
    "    settings = {\n",
    "        \"settings\": {\n",
    "            \"number_of_shards\": 1,\n",
    "            \"index\": {\n",
    "                \"analysis\": analysisSettings,\n",
    "            }\n",
    "        }\n",
    "    }\n",
    "\n",
    "    settingsJson = json.dumps(settings)\n",
    "    print(settingsJson)\n",
    "\n",
    "    if mappingSettings:\n",
    "        settings['mappings'] = mappingSettings\n",
    "\n",
    "    requests.delete(host + index)\n",
    "    requests.put(host + index, data=settingsJson, headers=headers)\n",
    "\n",
    "    bulkMovies = \"\"\n",
    "    for id, movie in movieDict.items():\n",
    "        addCmd = {\"index\": {\"_id\": movie[\"id\"]}}\n",
    "        bulkMovies += json.dumps(addCmd) + \"\\n\" + json.dumps(movie) + \"\\n\"\n",
    "\n",
    "    response = requests.post(indexBaseUrl + \"/_bulk\",\n",
    "                             data=bulkMovies, headers=headers)\n",
    "    return response\n",
    "\n",
    "\n",
    "movieDict = extract()\n",
    "reindex(movieDict=movieDict)\n"
   ]
  },
  {
   "attachments": {},
   "cell_type": "markdown",
   "metadata": {},
   "source": [
    "## The search function"
   ]
  },
  {
   "cell_type": "code",
   "execution_count": null,
   "metadata": {},
   "outputs": [],
   "source": [
    "def search(query: str):\n",
    "    url = indexBaseUrl + \"/_search\"\n",
    "    response = requests.get(url, data=json.dumps(query), headers=headers)\n",
    "\n",
    "    searchHits = json.loads(response.text)['hits']\n",
    "\n",
    "    print(\"Num\\tRelevanceScore\\tMovie Title\")\n",
    "    for idx, hit in enumerate(searchHits['hits']):\n",
    "        print(\"%s\\t%s\\t\\t%s\" %\n",
    "              (idx+1, round(hit['_score'], 2), hit['_source']['title']))\n"
   ]
  },
  {
   "cell_type": "code",
   "execution_count": null,
   "metadata": {},
   "outputs": [],
   "source": [
    "userSearch = 'basketball with cartoon aliens'\n",
    "query = {\n",
    "    \"query\": {\n",
    "        \"multi_match\": {\n",
    "            \"query\": userSearch,\n",
    "            \"fields\": [\"title^10\", \"overview\"]\n",
    "        }\n",
    "    }\n",
    "}\n",
    "search(query)\n"
   ]
  },
  {
   "cell_type": "markdown",
   "metadata": {},
   "source": [
    "### Explain Query"
   ]
  },
  {
   "cell_type": "code",
   "execution_count": null,
   "metadata": {},
   "outputs": [],
   "source": [
    "def explain(query: str): \n",
    "    url = indexBaseUrl + \"/_validate/query?explain\"\n",
    "    response = requests.get(url, data = json.dumps(query), headers=headers)\n",
    "    toJsonPrettyPrint(response.text)"
   ]
  },
  {
   "cell_type": "code",
   "execution_count": null,
   "metadata": {},
   "outputs": [],
   "source": [
    "explain(query)"
   ]
  },
  {
   "attachments": {},
   "cell_type": "markdown",
   "metadata": {},
   "source": [
    "### Analyze"
   ]
  },
  {
   "cell_type": "code",
   "execution_count": null,
   "metadata": {},
   "outputs": [],
   "source": [
    "query = {\n",
    "    \"analyzer\": \"standard\",\n",
    "    \"text\": \"Fire with Fire\"\n",
    "}\n",
    "response = requests.get(indexBaseUrl + \"/_analyze\", data=json.dumps(query), headers=headers)\n",
    "toJsonPrettyPrint(response.text)"
   ]
  },
  {
   "cell_type": "code",
   "execution_count": null,
   "metadata": {},
   "outputs": [],
   "source": []
  }
 ],
 "metadata": {
  "kernelspec": {
   "display_name": "Python 3",
   "language": "python",
   "name": "python3"
  },
  "language_info": {
   "codemirror_mode": {
    "name": "ipython",
    "version": 3
   },
   "file_extension": ".py",
   "mimetype": "text/x-python",
   "name": "python",
   "nbconvert_exporter": "python",
   "pygments_lexer": "ipython3",
   "version": "3.10.9 (main, Dec 15 2022, 18:18:30) [Clang 14.0.0 (clang-1400.0.29.202)]"
  },
  "orig_nbformat": 4,
  "vscode": {
   "interpreter": {
    "hash": "aee8b7b246df8f9039afb4144a1f6fd8d2ca17a180786b69acc140d282b71a49"
   }
  }
 },
 "nbformat": 4,
 "nbformat_minor": 2
}
