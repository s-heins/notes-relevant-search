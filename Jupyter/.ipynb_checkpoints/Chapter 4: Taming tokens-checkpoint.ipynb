{
 "cells": [
  {
   "cell_type": "markdown",
   "id": "6a1b36a8-4376-4359-8f3f-eb2bed96c393",
   "metadata": {},
   "source": [
    "# Chapter 4: Taming tokens"
   ]
  },
  {
   "cell_type": "markdown",
   "id": "66c5096e-2a34-4ca2-8b83-8f72274c615f",
   "metadata": {},
   "source": [
    "## Re-creating the standard analyzer"
   ]
  },
  {
   "cell_type": "code",
   "execution_count": 70,
   "id": "c06d4c8f-01b1-4ec9-8849-a24864d633a4",
   "metadata": {
    "tags": []
   },
   "outputs": [
    {
     "name": "stdout",
     "output_type": "stream",
     "text": [
      "Imported my_utils module\n"
     ]
    }
   ],
   "source": [
    "import importlib\n",
    "\n",
    "try:\n",
    "    importlib.reload(my_utils)\n",
    "except (NameError, TypeError): \n",
    "    pass"
   ]
  },
  {
   "cell_type": "code",
   "execution_count": 5,
   "id": "63f8f092-1e11-412f-bad0-dea99df6c39d",
   "metadata": {
    "tags": []
   },
   "outputs": [
    {
     "name": "stdout",
     "output_type": "stream",
     "text": [
      "Imported my_utils module\n"
     ]
    }
   ],
   "source": [
    "import my_utils\n",
    "from my_utils import host, index, indexBaseUrl, headers\n",
    "import requests  # HTTP lib\n",
    "import json  # json parsing"
   ]
  },
  {
   "cell_type": "code",
   "execution_count": 9,
   "id": "c646fb24-83ca-462e-90e6-60d884be96d7",
   "metadata": {
    "tags": []
   },
   "outputs": [
    {
     "data": {
      "text/plain": [
       "<Response [400]>"
      ]
     },
     "execution_count": 9,
     "metadata": {},
     "output_type": "execute_result"
    }
   ],
   "source": [
    "settings = {\n",
    "  \"settings\": {\n",
    "    \"analysis\": {\n",
    "      \"analyzer\": {\n",
    "        \"standard_clone\": {\n",
    "          \"type\": \"custom\", \n",
    "          \"tokenizer\": \"standard\",\n",
    "          \"filter\": [\n",
    "            \"lowercase\",\n",
    "            \"stop\"\n",
    "          ]\n",
    "        }\n",
    "      }\n",
    "    }\n",
    "  }\n",
    "}\n",
    "newIndex = \"my-index\"\n",
    "newIndexBaseUrl = host + newIndex\n",
    "\n",
    "settingsJson = json.dumps(settings)\n",
    "requests.put(newIndexBaseUrl, data=settingsJson, headers=headers)\n"
   ]
  },
  {
   "cell_type": "code",
   "execution_count": 10,
   "id": "ea625225-82e7-4651-acbe-01e5b1863eaa",
   "metadata": {
    "tags": []
   },
   "outputs": [
    {
     "name": "stdout",
     "output_type": "stream",
     "text": [
      "['dr', 'strangelove', 'how', 'i', 'learned', 'stop', 'worrying', 'love', 'bomb']\n"
     ]
    }
   ],
   "source": [
    "analyzeQuery = {\n",
    "    \"analyzer\": \"standard_clone\",\n",
    "    \"text\": \"Dr. Strangelove: Or How I Learned to Stop Worrying and Love the Bomb\"\n",
    "}\n",
    "\n",
    "response = requests.get(newIndexBaseUrl + \"/_analyze\", data=json.dumps(analyzeQuery), headers = headers)\n",
    "tokens = my_utils.getTokenStrings(response)\n",
    "   \n",
    "print(tokens)"
   ]
  },
  {
   "cell_type": "code",
   "execution_count": 11,
   "id": "562c1002-2c2d-4e89-82cb-b2fbfad21d4d",
   "metadata": {
    "tags": []
   },
   "outputs": [
    {
     "name": "stdout",
     "output_type": "stream",
     "text": [
      "['mr', 'weirdlove', \"don't\", 'worry', \"i'm\", 'learning', 'start', 'loving', 'bombs']\n"
     ]
    }
   ],
   "source": [
    "confusedUserAnalyzeQuery = {\n",
    "    \"analyzer\": \"standard_clone\",\n",
    "    \"text\": \"Mr. Weirdlove: Don't worry, I'm learning to start loving bombs\"\n",
    "}\n",
    "\n",
    "response = requests.get(newIndexBaseUrl + \"/_analyze\", data=json.dumps(confusedUserAnalyzeQuery), headers = headers)\n",
    "tokens = my_utils.getTokenStrings(response)\n",
    "\n",
    "print(tokens)"
   ]
  },
  {
   "cell_type": "code",
   "execution_count": 12,
   "id": "3859b5b7-8c79-4060-965f-5d55bc48bf9c",
   "metadata": {
    "tags": []
   },
   "outputs": [
    {
     "name": "stdout",
     "output_type": "stream",
     "text": [
      "['dr', 'strangelov', 'how', 'i', 'learn', 'stop', 'worri', 'love', 'bomb']\n"
     ]
    }
   ],
   "source": [
    "analyzeQuery = {\n",
    "    \"analyzer\": \"english\",\n",
    "    \"text\": \"Dr. Strangelove: Or How I Learned to Stop Worrying and Love the Bomb\"\n",
    "}\n",
    "\n",
    "response = requests.get(newIndexBaseUrl + \"/_analyze\", data=json.dumps(analyzeQuery), headers = headers)\n",
    "tokens = my_utils.getTokenStrings(response)\n",
    "   \n",
    "print(tokens)"
   ]
  },
  {
   "cell_type": "code",
   "execution_count": 13,
   "id": "7e7f1c5c-a16f-4160-afec-778df26a9758",
   "metadata": {
    "tags": []
   },
   "outputs": [
    {
     "name": "stdout",
     "output_type": "stream",
     "text": [
      "['mr', 'weirdlov', \"don't\", 'worri', \"i'm\", 'learn', 'start', 'love', 'bomb']\n"
     ]
    }
   ],
   "source": [
    "confusedUserAnalyzeQuery = {\n",
    "    \"analyzer\": \"english\",\n",
    "    \"text\": \"Mr. Weirdlove: Don't worry, I'm learning to start loving bombs\"\n",
    "}\n",
    "\n",
    "response = requests.get(newIndexBaseUrl + \"/_analyze\", data=json.dumps(confusedUserAnalyzeQuery), headers = headers)\n",
    "tokens = my_utils.getTokenStrings(response)\n",
    "\n",
    "print(tokens)"
   ]
  },
  {
   "cell_type": "markdown",
   "id": "3221a3a1-c455-40c6-ba6d-fa77dad372ef",
   "metadata": {},
   "source": [
    "## Precision and recall – have your cake and eat it too\n",
    "\n",
    "#### Creating a new index for fruit\n",
    "\n",
    "In the folling section, we create a new index for fruit. \n",
    "Once without the English analyzer, and once we will re-index and create it with the English analyzer.\n",
    "Using the English analyzer to create tokens enables us to strike a good balance between precision and recall."
   ]
  },
  {
   "cell_type": "code",
   "execution_count": 14,
   "id": "2a73795d-114c-4e15-bbf3-db0432fa0da9",
   "metadata": {
    "tags": []
   },
   "outputs": [
    {
     "data": {
      "text/plain": [
       "<Response [200]>"
      ]
     },
     "execution_count": 14,
     "metadata": {},
     "output_type": "execute_result"
    }
   ],
   "source": [
    "settings = {\n",
    "    \"settings\": {\n",
    "        \"number_of_shards\": 1\n",
    "    }\n",
    "}\n",
    "\n",
    "newIndex = \"fruits\"\n",
    "newIndexBaseUrl = host + newIndex\n",
    "\n",
    "def putFruitDoc(title):\n",
    "    return json.dumps({\"title\": title})\n",
    "\n",
    "requests.delete(newIndexBaseUrl)\n",
    "requests.put(newIndexBaseUrl, data=json.dumps(settings), headers=headers)"
   ]
  },
  {
   "cell_type": "code",
   "execution_count": 15,
   "id": "c4993595-7e3f-462b-8b03-32b54d5a3285",
   "metadata": {
    "tags": []
   },
   "outputs": [
    {
     "data": {
      "text/plain": [
       "<Response [201]>"
      ]
     },
     "execution_count": 15,
     "metadata": {},
     "output_type": "execute_result"
    }
   ],
   "source": [
    "requests.post(newIndexBaseUrl + \"/_doc\", data=putFruitDoc(\"apple apple apple apple apple\"), headers = headers)\n",
    "requests.post(newIndexBaseUrl + \"/_doc\", data=putFruitDoc(\"apple apple apple banana banana\"), headers = headers)\n",
    "requests.post(newIndexBaseUrl + \"/_doc\", data=putFruitDoc(\"apple banana blueberry coconut\"), headers = headers)\n",
    "requests.post(newIndexBaseUrl + \"/_doc\", data=putFruitDoc(\"apple apples\"), headers = headers)"
   ]
  },
  {
   "cell_type": "code",
   "execution_count": 21,
   "id": "249aa09a-e485-472b-893f-463515df4a54",
   "metadata": {
    "tags": []
   },
   "outputs": [
    {
     "name": "stdout",
     "output_type": "stream",
     "text": [
      "Num\tScore\tTitle\n",
      "1\t0.18\tapple apple apple apple apple\n",
      "2\t0.169\tapple apples\n",
      "3\t0.157\tapple apple apple banana banana\n",
      "4\t0.105\tapple banana blueberry coconut\n",
      "\n",
      "1\n",
      "title: apple apple apple apple apple\n",
      "└──0.18038377 (weight(title:appl in 0) [PerFieldSimilarity], result of:)\n",
      "   └──0.18038377 (score(freq=5.0), computed as boost * idf * tf from:)\n",
      "      └──2.2 (boost)\n",
      "      └──0.105360515 (idf, computed as log(1 + (N - n + 0.5) / (n + 0.5)) from:)\n",
      "         └──4 (n, number of documents containing term)\n",
      "         └──4 (N, total number of documents with field)\n",
      "      └──0.7782101 (tf, computed as freq / (freq + k1 * (1 - b + b * dl / avgdl)) from:)\n",
      "         └──5.0 (freq, occurrences of term within document)\n",
      "         └──1.2 (k1, term saturation parameter)\n",
      "         └──0.75 (b, length normalization parameter)\n",
      "         └──5.0 (dl, length of field)\n",
      "         └──4.0 (avgdl, average length of field)\n",
      "\n",
      "2\n",
      "title: apple apples\n",
      "└──0.16857684 (weight(title:appl in 3) [PerFieldSimilarity], result of:)\n",
      "   └──0.16857684 (score(freq=2.0), computed as boost * idf * tf from:)\n",
      "      └──2.2 (boost)\n",
      "      └──0.105360515 (idf, computed as log(1 + (N - n + 0.5) / (n + 0.5)) from:)\n",
      "         └──4 (n, number of documents containing term)\n",
      "         └──4 (N, total number of documents with field)\n",
      "      └──0.72727275 (tf, computed as freq / (freq + k1 * (1 - b + b * dl / avgdl)) from:)\n",
      "         └──2.0 (freq, occurrences of term within document)\n",
      "         └──1.2 (k1, term saturation parameter)\n",
      "         └──0.75 (b, length normalization parameter)\n",
      "         └──2.0 (dl, length of field)\n",
      "         └──4.0 (avgdl, average length of field)\n",
      "\n",
      "3\n",
      "title: apple apple apple banana banana\n",
      "└──0.15714788 (weight(title:appl in 1) [PerFieldSimilarity], result of:)\n",
      "   └──0.15714788 (score(freq=3.0), computed as boost * idf * tf from:)\n",
      "      └──2.2 (boost)\n",
      "      └──0.105360515 (idf, computed as log(1 + (N - n + 0.5) / (n + 0.5)) from:)\n",
      "         └──4 (n, number of documents containing term)\n",
      "         └──4 (N, total number of documents with field)\n",
      "      └──0.6779661 (tf, computed as freq / (freq + k1 * (1 - b + b * dl / avgdl)) from:)\n",
      "         └──3.0 (freq, occurrences of term within document)\n",
      "         └──1.2 (k1, term saturation parameter)\n",
      "         └──0.75 (b, length normalization parameter)\n",
      "         └──5.0 (dl, length of field)\n",
      "         └──4.0 (avgdl, average length of field)\n",
      "\n",
      "4\n",
      "title: apple banana blueberry coconut\n",
      "└──0.10536051 (weight(title:appl in 2) [PerFieldSimilarity], result of:)\n",
      "   └──0.10536051 (score(freq=1.0), computed as boost * idf * tf from:)\n",
      "      └──2.2 (boost)\n",
      "      └──0.105360515 (idf, computed as log(1 + (N - n + 0.5) / (n + 0.5)) from:)\n",
      "         └──4 (n, number of documents containing term)\n",
      "         └──4 (N, total number of documents with field)\n",
      "      └──0.45454544 (tf, computed as freq / (freq + k1 * (1 - b + b * dl / avgdl)) from:)\n",
      "         └──1.0 (freq, occurrences of term within document)\n",
      "         └──1.2 (k1, term saturation parameter)\n",
      "         └──0.75 (b, length normalization parameter)\n",
      "         └──4.0 (dl, length of field)\n",
      "         └──4.0 (avgdl, average length of field)\n",
      "\n"
     ]
    }
   ],
   "source": [
    "baseQuery = {\n",
    "    \"query\": {\n",
    "        \"match\": {\n",
    "            \"title\": \"apple\",\n",
    "        }\n",
    "    },\n",
    "    \"explain\": \"true\"\n",
    "}\n",
    "\n",
    "hits = my_utils.getSearchHits(newIndexBaseUrl, baseQuery)['hits']\n",
    "\n",
    "print(\"%s\\t%s\\t%s\" %(\"Num\", \"Score\", \"Title\"))\n",
    "for idx, hit in enumerate(hits):\n",
    "    print(\"%s\\t%s\\t%s\" %(idx+1, str(round(hit['_score'], 3)).rjust(4, ' '), hit['_source']['title']))\n",
    "print(\"\")\n",
    "    \n",
    "\n",
    "for idx, hit in enumerate(hits):\n",
    "        print(idx+1)\n",
    "        my_utils.titleAndExplanation(hit)\n",
    "        print(\"\")"
   ]
  },
  {
   "cell_type": "code",
   "execution_count": 22,
   "id": "f94b4a4b-89fd-4b81-9675-10558c694778",
   "metadata": {
    "tags": []
   },
   "outputs": [
    {
     "data": {
      "text/plain": [
       "<Response [200]>"
      ]
     },
     "execution_count": 22,
     "metadata": {},
     "output_type": "execute_result"
    }
   ],
   "source": [
    "settings = {\n",
    "  \"settings\": {\n",
    "    \"number_of_shards\": 1,\n",
    "    \"analysis\": {\n",
    "      \"analyzer\": {\n",
    "          \"default\": {\n",
    "              \"type\": \"english\"\n",
    "          },\n",
    "          \"default_search\": {\n",
    "              \"type\": \"english\"\n",
    "          }\n",
    "      }\n",
    "    }\n",
    "  }\n",
    "}\n",
    "\n",
    "newIndex = \"fruits\"\n",
    "newIndexBaseUrl = host + newIndex\n",
    "\n",
    "requests.delete(newIndexBaseUrl)\n",
    "requests.put(newIndexBaseUrl, data=json.dumps(settings), headers=headers)"
   ]
  },
  {
   "cell_type": "code",
   "execution_count": 23,
   "id": "3b846b89-b532-4652-921d-7c418d7fda63",
   "metadata": {
    "tags": []
   },
   "outputs": [
    {
     "data": {
      "text/plain": [
       "<Response [201]>"
      ]
     },
     "execution_count": 23,
     "metadata": {},
     "output_type": "execute_result"
    }
   ],
   "source": [
    "requests.post(newIndexBaseUrl + \"/_doc\", data=putFruitDoc(\"apple apple apple apple apple\"), headers = headers)\n",
    "requests.post(newIndexBaseUrl + \"/_doc\", data=putFruitDoc(\"apple apple apple banana banana\"), headers = headers)\n",
    "requests.post(newIndexBaseUrl + \"/_doc\", data=putFruitDoc(\"apple banana blueberry coconut\"), headers = headers)\n",
    "requests.post(newIndexBaseUrl + \"/_doc\", data=putFruitDoc(\"apple apples\"), headers = headers)"
   ]
  },
  {
   "cell_type": "markdown",
   "id": "d9ab0253-36c5-4a14-9e90-f9d2fdf1ecb5",
   "metadata": {},
   "source": [
    "### Scoring strength of a feature in a single field"
   ]
  },
  {
   "cell_type": "code",
   "execution_count": 24,
   "id": "b186d96c-c978-4aad-8408-e29ce2867c62",
   "metadata": {
    "tags": []
   },
   "outputs": [
    {
     "name": "stdout",
     "output_type": "stream",
     "text": [
      "Num\tScore\tTitle\n",
      "1\t0.18\tapple apple apple apple apple\n",
      "2\t0.169\tapple apples\n",
      "3\t0.157\tapple apple apple banana banana\n",
      "4\t0.105\tapple banana blueberry coconut\n",
      "\n",
      "1\n",
      "title: apple apple apple apple apple\n",
      "└──0.18038377 (weight(title:appl in 0) [PerFieldSimilarity], result of:)\n",
      "   └──0.18038377 (score(freq=5.0), computed as boost * idf * tf from:)\n",
      "      └──2.2 (boost)\n",
      "      └──0.105360515 (idf, computed as log(1 + (N - n + 0.5) / (n + 0.5)) from:)\n",
      "         └──4 (n, number of documents containing term)\n",
      "         └──4 (N, total number of documents with field)\n",
      "      └──0.7782101 (tf, computed as freq / (freq + k1 * (1 - b + b * dl / avgdl)) from:)\n",
      "         └──5.0 (freq, occurrences of term within document)\n",
      "         └──1.2 (k1, term saturation parameter)\n",
      "         └──0.75 (b, length normalization parameter)\n",
      "         └──5.0 (dl, length of field)\n",
      "         └──4.0 (avgdl, average length of field)\n",
      "\n",
      "2\n",
      "title: apple apples\n",
      "└──0.16857684 (weight(title:appl in 1) [PerFieldSimilarity], result of:)\n",
      "   └──0.16857684 (score(freq=2.0), computed as boost * idf * tf from:)\n",
      "      └──2.2 (boost)\n",
      "      └──0.105360515 (idf, computed as log(1 + (N - n + 0.5) / (n + 0.5)) from:)\n",
      "         └──4 (n, number of documents containing term)\n",
      "         └──4 (N, total number of documents with field)\n",
      "      └──0.72727275 (tf, computed as freq / (freq + k1 * (1 - b + b * dl / avgdl)) from:)\n",
      "         └──2.0 (freq, occurrences of term within document)\n",
      "         └──1.2 (k1, term saturation parameter)\n",
      "         └──0.75 (b, length normalization parameter)\n",
      "         └──2.0 (dl, length of field)\n",
      "         └──4.0 (avgdl, average length of field)\n",
      "\n",
      "3\n",
      "title: apple apple apple banana banana\n",
      "└──0.15714788 (weight(title:appl in 1) [PerFieldSimilarity], result of:)\n",
      "   └──0.15714788 (score(freq=3.0), computed as boost * idf * tf from:)\n",
      "      └──2.2 (boost)\n",
      "      └──0.105360515 (idf, computed as log(1 + (N - n + 0.5) / (n + 0.5)) from:)\n",
      "         └──4 (n, number of documents containing term)\n",
      "         └──4 (N, total number of documents with field)\n",
      "      └──0.6779661 (tf, computed as freq / (freq + k1 * (1 - b + b * dl / avgdl)) from:)\n",
      "         └──3.0 (freq, occurrences of term within document)\n",
      "         └──1.2 (k1, term saturation parameter)\n",
      "         └──0.75 (b, length normalization parameter)\n",
      "         └──5.0 (dl, length of field)\n",
      "         └──4.0 (avgdl, average length of field)\n",
      "\n",
      "4\n",
      "title: apple banana blueberry coconut\n",
      "└──0.10536051 (weight(title:appl in 0) [PerFieldSimilarity], result of:)\n",
      "   └──0.10536051 (score(freq=1.0), computed as boost * idf * tf from:)\n",
      "      └──2.2 (boost)\n",
      "      └──0.105360515 (idf, computed as log(1 + (N - n + 0.5) / (n + 0.5)) from:)\n",
      "         └──4 (n, number of documents containing term)\n",
      "         └──4 (N, total number of documents with field)\n",
      "      └──0.45454544 (tf, computed as freq / (freq + k1 * (1 - b + b * dl / avgdl)) from:)\n",
      "         └──1.0 (freq, occurrences of term within document)\n",
      "         └──1.2 (k1, term saturation parameter)\n",
      "         └──0.75 (b, length normalization parameter)\n",
      "         └──4.0 (dl, length of field)\n",
      "         └──4.0 (avgdl, average length of field)\n",
      "\n"
     ]
    }
   ],
   "source": [
    "baseQuery = {\n",
    "    \"query\": {\n",
    "        \"match\": {\n",
    "            \"title\": \"apple\",\n",
    "        }\n",
    "    },\n",
    "    \"explain\": \"true\"\n",
    "}\n",
    "\n",
    "hits = my_utils.getSearchHits(newIndexBaseUrl, baseQuery)['hits']\n",
    "\n",
    "print(\"%s\\t%s\\t%s\" %(\"Num\", \"Score\", \"Title\"))\n",
    "for idx, hit in enumerate(hits):\n",
    "    print(\"%s\\t%s\\t%s\" %(idx+1, str(round(hit['_score'], 3)).rjust(4, ' '), hit['_source']['title']))\n",
    "print(\"\")\n",
    "\n",
    "for idx, hit in enumerate(hits):\n",
    "        print(idx+1)\n",
    "        my_utils.titleAndExplanation(hit)\n",
    "        print(\"\")"
   ]
  },
  {
   "cell_type": "markdown",
   "id": "f370f463-febf-4bf6-83a1-7e85fddccbec",
   "metadata": {},
   "source": [
    "### Scoring beyond $TF \\times IDF$: multiple search terms and multiple fields\n",
    "\n",
    "#### Searching for two terms"
   ]
  },
  {
   "cell_type": "code",
   "execution_count": 25,
   "id": "67e592de-d9dd-4999-af21-7ff760bb9b50",
   "metadata": {
    "tags": []
   },
   "outputs": [
    {
     "name": "stdout",
     "output_type": "stream",
     "text": [
      "Num\tScore\tTitle\n",
      "1\t1.048\tapple apple apple banana banana\n",
      "2\t0.799\tapple banana blueberry coconut\n",
      "3\t0.18\tapple apple apple apple apple\n",
      "4\t0.169\tapple apples\n",
      "\n",
      "1\n",
      "title: apple apple apple banana banana\n",
      "└──1.0476143 (sum of:)\n",
      "   └──0.15714788 (weight(title:appl in 1) [PerFieldSimilarity], result of:)\n",
      "      └──0.15714788 (score(freq=3.0), computed as boost * idf * tf from:)\n",
      "         └──2.2 (boost)\n",
      "         └──0.105360515 (idf, computed as log(1 + (N - n + 0.5) / (n + 0.5)) from:)\n",
      "            └──4 (n, number of documents containing term)\n",
      "            └──4 (N, total number of documents with field)\n",
      "         └──0.6779661 (tf, computed as freq / (freq + k1 * (1 - b + b * dl / avgdl)) from:)\n",
      "            └──3.0 (freq, occurrences of term within document)\n",
      "            └──1.2 (k1, term saturation parameter)\n",
      "            └──0.75 (b, length normalization parameter)\n",
      "            └──5.0 (dl, length of field)\n",
      "            └──4.0 (avgdl, average length of field)\n",
      "   └──0.89046645 (weight(title:banana in 1) [PerFieldSimilarity], result of:)\n",
      "      └──0.89046645 (score(freq=2.0), computed as boost * idf * tf from:)\n",
      "         └──2.2 (boost)\n",
      "         └──0.6931472 (idf, computed as log(1 + (N - n + 0.5) / (n + 0.5)) from:)\n",
      "            └──2 (n, number of documents containing term)\n",
      "            └──4 (N, total number of documents with field)\n",
      "         └──0.5839416 (tf, computed as freq / (freq + k1 * (1 - b + b * dl / avgdl)) from:)\n",
      "            └──2.0 (freq, occurrences of term within document)\n",
      "            └──1.2 (k1, term saturation parameter)\n",
      "            └──0.75 (b, length normalization parameter)\n",
      "            └──5.0 (dl, length of field)\n",
      "            └──4.0 (avgdl, average length of field)\n",
      "\n",
      "2\n",
      "title: apple banana blueberry coconut\n",
      "└──0.79850763 (sum of:)\n",
      "   └──0.10536051 (weight(title:appl in 0) [PerFieldSimilarity], result of:)\n",
      "      └──0.10536051 (score(freq=1.0), computed as boost * idf * tf from:)\n",
      "         └──2.2 (boost)\n",
      "         └──0.105360515 (idf, computed as log(1 + (N - n + 0.5) / (n + 0.5)) from:)\n",
      "            └──4 (n, number of documents containing term)\n",
      "            └──4 (N, total number of documents with field)\n",
      "         └──0.45454544 (tf, computed as freq / (freq + k1 * (1 - b + b * dl / avgdl)) from:)\n",
      "            └──1.0 (freq, occurrences of term within document)\n",
      "            └──1.2 (k1, term saturation parameter)\n",
      "            └──0.75 (b, length normalization parameter)\n",
      "            └──4.0 (dl, length of field)\n",
      "            └──4.0 (avgdl, average length of field)\n",
      "   └──0.6931471 (weight(title:banana in 0) [PerFieldSimilarity], result of:)\n",
      "      └──0.6931471 (score(freq=1.0), computed as boost * idf * tf from:)\n",
      "         └──2.2 (boost)\n",
      "         └──0.6931472 (idf, computed as log(1 + (N - n + 0.5) / (n + 0.5)) from:)\n",
      "            └──2 (n, number of documents containing term)\n",
      "            └──4 (N, total number of documents with field)\n",
      "         └──0.45454544 (tf, computed as freq / (freq + k1 * (1 - b + b * dl / avgdl)) from:)\n",
      "            └──1.0 (freq, occurrences of term within document)\n",
      "            └──1.2 (k1, term saturation parameter)\n",
      "            └──0.75 (b, length normalization parameter)\n",
      "            └──4.0 (dl, length of field)\n",
      "            └──4.0 (avgdl, average length of field)\n",
      "\n",
      "3\n",
      "title: apple apple apple apple apple\n",
      "└──0.18038377 (sum of:)\n",
      "   └──0.18038377 (weight(title:appl in 0) [PerFieldSimilarity], result of:)\n",
      "      └──0.18038377 (score(freq=5.0), computed as boost * idf * tf from:)\n",
      "         └──2.2 (boost)\n",
      "         └──0.105360515 (idf, computed as log(1 + (N - n + 0.5) / (n + 0.5)) from:)\n",
      "            └──4 (n, number of documents containing term)\n",
      "            └──4 (N, total number of documents with field)\n",
      "         └──0.7782101 (tf, computed as freq / (freq + k1 * (1 - b + b * dl / avgdl)) from:)\n",
      "            └──5.0 (freq, occurrences of term within document)\n",
      "            └──1.2 (k1, term saturation parameter)\n",
      "            └──0.75 (b, length normalization parameter)\n",
      "            └──5.0 (dl, length of field)\n",
      "            └──4.0 (avgdl, average length of field)\n",
      "\n",
      "4\n",
      "title: apple apples\n",
      "└──0.16857684 (sum of:)\n",
      "   └──0.16857684 (weight(title:appl in 1) [PerFieldSimilarity], result of:)\n",
      "      └──0.16857684 (score(freq=2.0), computed as boost * idf * tf from:)\n",
      "         └──2.2 (boost)\n",
      "         └──0.105360515 (idf, computed as log(1 + (N - n + 0.5) / (n + 0.5)) from:)\n",
      "            └──4 (n, number of documents containing term)\n",
      "            └──4 (N, total number of documents with field)\n",
      "         └──0.72727275 (tf, computed as freq / (freq + k1 * (1 - b + b * dl / avgdl)) from:)\n",
      "            └──2.0 (freq, occurrences of term within document)\n",
      "            └──1.2 (k1, term saturation parameter)\n",
      "            └──0.75 (b, length normalization parameter)\n",
      "            └──2.0 (dl, length of field)\n",
      "            └──4.0 (avgdl, average length of field)\n",
      "\n"
     ]
    }
   ],
   "source": [
    "baseQuery = {\n",
    "    \"query\": {\n",
    "        \"match\": {\n",
    "            \"title\": \"apple banana\",\n",
    "        }\n",
    "    },\n",
    "    \"explain\": \"true\"\n",
    "}\n",
    "\n",
    "hits = my_utils.getSearchHits(newIndexBaseUrl, baseQuery)['hits']\n",
    "\n",
    "print(\"%s\\t%s\\t%s\" %(\"Num\", \"Score\", \"Title\"))\n",
    "for idx, hit in enumerate(hits):\n",
    "    print(\"%s\\t%s\\t%s\" %(idx+1, str(round(hit['_score'], 3)).rjust(4, ' '), hit['_source']['title']))\n",
    "print(\"\")\n",
    "\n",
    "for idx, hit in enumerate(hits):\n",
    "        print(idx+1)\n",
    "        my_utils.titleAndExplanation(hit)\n",
    "        print(\"\")"
   ]
  },
  {
   "cell_type": "markdown",
   "id": "368870a3-18ae-48cf-a696-d616e6e95c6b",
   "metadata": {},
   "source": [
    "## Analysis strategies\n",
    "\n",
    "### Delimiters"
   ]
  },
  {
   "cell_type": "code",
   "execution_count": 51,
   "id": "d82faf10-dc66-4562-bd01-8154e61020a3",
   "metadata": {
    "tags": []
   },
   "outputs": [
    {
     "data": {
      "text/plain": [
       "<Response [200]>"
      ]
     },
     "execution_count": 51,
     "metadata": {},
     "output_type": "execute_result"
    }
   ],
   "source": [
    "settings = {\n",
    "  \"settings\": {\n",
    "    \"number_of_shards\": 1,\n",
    "    \"analysis\": {\n",
    "        \"filter\": {\n",
    "            \"phone_num_filter\": {\n",
    "                \"type\": \"word_delimiter\",\n",
    "                \"catenate_all\": \"true\",\n",
    "                \"generate_number_parts\": \"false\"\n",
    "            },\n",
    "            \"phone_num_parts\": {\n",
    "                \"type\": \"pattern_capture\",\n",
    "                \"patterns\": [\"(\\\\d{7}$)\", \"(\\\\d{10}$)\"],\n",
    "                \"preserve_original\": \"true\"\n",
    "            }\n",
    "        },\n",
    "      \"analyzer\": {\n",
    "          \"phone_num\": {\n",
    "              \"tokenizer\": \"keyword\",\n",
    "              \"filter\": [\"phone_num_filter\", \"phone_num_parts\"]\n",
    "          }\n",
    "      }\n",
    "    }\n",
    "  }\n",
    "}\n",
    "\n",
    "newIndex = \"phone-nums\"\n",
    "newIndexBaseUrl = host + newIndex\n",
    "\n",
    "requests.delete(newIndexBaseUrl)\n",
    "requests.put(newIndexBaseUrl, data=json.dumps(settings), headers=headers)"
   ]
  },
  {
   "cell_type": "code",
   "execution_count": 52,
   "id": "05047728-a095-4390-99b0-0eb123660776",
   "metadata": {
    "tags": []
   },
   "outputs": [
    {
     "name": "stdout",
     "output_type": "stream",
     "text": [
      "['18008675309', '8008675309', '8675309']\n"
     ]
    }
   ],
   "source": [
    "phoneNumQuery = {\n",
    "    \"analyzer\": \"phone_num\",\n",
    "    \"text\": \"1 (800) 867-5309\"\n",
    "}\n",
    "\n",
    "resp = requests.get(newIndexBaseUrl + \"/_analyze\", data=json.dumps(phoneNumQuery), headers=headers)\n",
    "tokens = my_utils.getTokenStrings(resp)\n",
    "\n",
    "print(tokens)"
   ]
  },
  {
   "cell_type": "markdown",
   "id": "3a62482f-6bb2-4cc2-a6d7-2477c360e0a5",
   "metadata": {},
   "source": [
    "### Capturing meaning with synonyms"
   ]
  },
  {
   "cell_type": "code",
   "execution_count": 75,
   "id": "0b8272d4-b487-4fa0-8b7e-b3903efa9e51",
   "metadata": {
    "tags": []
   },
   "outputs": [
    {
     "data": {
      "text/plain": [
       "<Response [200]>"
      ]
     },
     "execution_count": 75,
     "metadata": {},
     "output_type": "execute_result"
    }
   ],
   "source": [
    "settings = {\n",
    "    \"settings\": {\n",
    "        \"number_of_shards\": 1,\n",
    "        \"analysis\": {\n",
    "            \"filter\": {\n",
    "                \"english_stop\": {\n",
    "                    \"type\": \"stop\",\n",
    "                    \"stopwords\": \"_english_\"\n",
    "                },\n",
    "                \"english_keywords\": {\n",
    "                    \"type\": \"keyword_marker\",\n",
    "                    \"keywords\": [\n",
    "                        \"example\"\n",
    "                    ]\n",
    "                },\n",
    "                \"english_stemmer\": {\n",
    "                    \"type\": \"stemmer\",\n",
    "                    \"language\": \"english\"\n",
    "                },\n",
    "                \"english_possessive_stemmer\": {\n",
    "                    \"type\": \"stemmer\",\n",
    "                    \"language\": \"possessive_english\"\n",
    "                },\n",
    "                \"retail_syn_filter\": {\n",
    "                    \"type\": \"synonym\",\n",
    "                    \"synonyms\": [\n",
    "                        \"dress shoe, dress shoes => dress_shoe, shoe\"\n",
    "                    ]\n",
    "                }\n",
    "            },\n",
    "            \"analyzer\": {\n",
    "                \"retail_analyzer\": {\n",
    "                    \"tokenizer\": \"standard\",\n",
    "                    \"filter\": [\n",
    "                        \"english_possessive_stemmer\",\n",
    "                        \"lowercase\",\n",
    "                        \"retail_syn_filter\",\n",
    "                        \"english_stop\",\n",
    "                        \"english_keywords\",\n",
    "                        \"english_stemmer\"\n",
    "                    ]\n",
    "                }\n",
    "            }\n",
    "        }\n",
    "    },\n",
    "    \"mappings\": {\n",
    "        \"properties\": {\n",
    "            \"desc\": {\n",
    "                \"type\": \"text\",\n",
    "                \"analyzer\": \"retail_analyzer\"\n",
    "            }\n",
    "        }\n",
    "    }\n",
    "}\n",
    "\n",
    "newIndex = \"synonyms\"\n",
    "newIndexBaseUrl = host + newIndex\n",
    "\n",
    "requests.delete(newIndexBaseUrl)\n",
    "requests.put(newIndexBaseUrl, data=json.dumps(settings), headers=headers)"
   ]
  },
  {
   "cell_type": "code",
   "execution_count": 76,
   "id": "019d4aa2-cab4-4bf3-a1c0-041bda52a41f",
   "metadata": {
    "tags": []
   },
   "outputs": [
    {
     "data": {
      "text/plain": [
       "<Response [201]>"
      ]
     },
     "execution_count": 76,
     "metadata": {},
     "output_type": "execute_result"
    }
   ],
   "source": [
    "requests.post(newIndexBaseUrl + \"/_doc\", data=json.dumps({\"desc\": \"bob's brand dress shoes are the bomb\"}), headers = headers) # dress shoe doc\n",
    "requests.post(newIndexBaseUrl + \"/_doc\", data=json.dumps({\"desc\": \"this little black dress is sure to impress\"}), headers = headers) # dress doc\n",
    "requests.post(newIndexBaseUrl + \"/_doc\", data=json.dumps({\"desc\": \"tennis shoes... you know, for tennis\"}), headers = headers) # shoe doc"
   ]
  },
  {
   "cell_type": "markdown",
   "id": "dec36968-dee5-469e-86e2-c439e7f4fdfe",
   "metadata": {},
   "source": [
    "The *dressQuery* yields the dress document ✅"
   ]
  },
  {
   "cell_type": "code",
   "execution_count": 77,
   "id": "41188904-447a-4356-9ddd-518210c93844",
   "metadata": {
    "tags": []
   },
   "outputs": [
    {
     "data": {
      "text/plain": [
       "['this little black dress is sure to impress']"
      ]
     },
     "execution_count": 77,
     "metadata": {},
     "output_type": "execute_result"
    }
   ],
   "source": [
    "dressQuery = {\n",
    "    \"query\": {\n",
    "        \"match\": {\n",
    "            \"desc\": \"dress\"\n",
    "        }\n",
    "    }\n",
    "}\n",
    "\n",
    "resp = requests.get(newIndexBaseUrl + \"/_search\", data=json.dumps(dressQuery), headers=headers)\n",
    "my_utils.getFieldFromHits(resp, 'desc')"
   ]
  },
  {
   "cell_type": "markdown",
   "id": "fafcf760-062c-439b-a66f-f43a501e05bf",
   "metadata": {},
   "source": [
    "The *shoe query* yields the shoe documents ✅"
   ]
  },
  {
   "cell_type": "code",
   "execution_count": 78,
   "id": "1fa5d05f-a315-4096-8e47-632c01f3927f",
   "metadata": {
    "tags": []
   },
   "outputs": [
    {
     "data": {
      "text/plain": [
       "[\"bob's brand dress shoes are the bomb\",\n",
       " 'tennis shoes... you know, for tennis']"
      ]
     },
     "execution_count": 78,
     "metadata": {},
     "output_type": "execute_result"
    }
   ],
   "source": [
    "shoeQuery = {\n",
    "    \"query\": {\n",
    "        \"match\": {\n",
    "            \"desc\": \"shoe\"\n",
    "        }\n",
    "    }\n",
    "}\n",
    "\n",
    "resp = requests.get(newIndexBaseUrl + \"/_search\", data=json.dumps(shoeQuery), headers=headers)\n",
    "my_utils.getFieldFromHits(resp, 'desc')"
   ]
  },
  {
   "cell_type": "markdown",
   "id": "9214c471-e7d7-4154-98af-68e0edc95e26",
   "metadata": {},
   "source": [
    "But the *dress shoe* query also yields the shoe document ❗️"
   ]
  },
  {
   "cell_type": "code",
   "execution_count": 79,
   "id": "008dfdf6-5605-472c-bd2a-a834c06d7555",
   "metadata": {
    "tags": []
   },
   "outputs": [
    {
     "data": {
      "text/plain": [
       "[\"bob's brand dress shoes are the bomb\",\n",
       " 'tennis shoes... you know, for tennis']"
      ]
     },
     "execution_count": 79,
     "metadata": {},
     "output_type": "execute_result"
    }
   ],
   "source": [
    "dressShoeQuery = {\n",
    "    \"query\": {\n",
    "        \"match\": {\n",
    "            \"desc\": \"dress shoe\"\n",
    "        }\n",
    "    }\n",
    "}\n",
    "\n",
    "resp = requests.get(newIndexBaseUrl + \"/_search\", data=json.dumps(dressShoeQuery), headers=headers)\n",
    "my_utils.getFieldFromHits(resp, 'desc')"
   ]
  },
  {
   "cell_type": "markdown",
   "id": "8f113c08-d5a2-419c-a20f-c4b166b02090",
   "metadata": {},
   "source": [
    "#### Two-sided analysis"
   ]
  },
  {
   "cell_type": "code",
   "execution_count": null,
   "id": "1634534c-b214-4f8a-850e-663c70db8f29",
   "metadata": {},
   "outputs": [],
   "source": [
    "settings = {\n",
    "    \"settings\": {\n",
    "        \"number_of_shards\": 1,\n",
    "        \"analysis\": {\n",
    "            \"filter\": {\n",
    "                \"english_stop\": {\n",
    "                    \"type\": \"stop\",\n",
    "                    \"stopwords\": \"_english_\"\n",
    "                },\n",
    "                \"english_keywords\": {\n",
    "                    \"type\": \"keyword_marker\",\n",
    "                    \"keywords\": [\n",
    "                        \"example\"\n",
    "                    ]\n",
    "                },\n",
    "                \"english_stemmer\": {\n",
    "                    \"type\": \"stemmer\",\n",
    "                    \"language\": \"english\"\n",
    "                },\n",
    "                \"english_possessive_stemmer\": {\n",
    "                    \"type\": \"stemmer\",\n",
    "                    \"language\": \"possessive_english\"\n",
    "                },\n",
    "                \"retail_syn_filter_index\": {\n",
    "                    \"type\": \"synonym\",\n",
    "                    \"synonyms\": [\n",
    "                        \"dress shoe, dress shoes => dress_shoe, shoe\"\n",
    "                    ]\n",
    "                },\n",
    "                                \"retail_syn_filter_search\": {\n",
    "                    \"type\": \"synonym\",\n",
    "                    \"synonyms\": [\n",
    "                        \"dress shoe, dress shoes => dress_shoe\"\n",
    "                    ]\n",
    "                }\n",
    "            },\n",
    "            \"analyzer\": {\n",
    "                \"retail_analyzer_index\": {\n",
    "                    \"tokenizer\": \"standard\",\n",
    "                    \"filter\": [\n",
    "                        \"english_possessive_stemmer\",\n",
    "                        \"lowercase\",\n",
    "                        \"retail_syn_filter_index\",\n",
    "                        \"english_stop\",\n",
    "                        \"english_keywords\",\n",
    "                        \"english_stemmer\"\n",
    "                    ]\n",
    "                }\n",
    "            }\n",
    "        }\n",
    "    },\n",
    "    \"mappings\": {\n",
    "        \"properties\": {\n",
    "            \"desc\": {\n",
    "                \"type\": \"text\",\n",
    "                \"analyzer\": \"retail_analyzer\"\n",
    "            }\n",
    "        }\n",
    "    }\n",
    "}\n",
    "\n",
    "newIndex = \"synonyms\"\n",
    "newIndexBaseUrl = host + newIndex\n",
    "\n",
    "requests.delete(newIndexBaseUrl)\n",
    "requests.put(newIndexBaseUrl, data=json.dumps(settings), headers=headers)"
   ]
  }
 ],
 "metadata": {
  "kernelspec": {
   "display_name": "Python 3 (ipykernel)",
   "language": "python",
   "name": "python3"
  },
  "language_info": {
   "codemirror_mode": {
    "name": "ipython",
    "version": 3
   },
   "file_extension": ".py",
   "mimetype": "text/x-python",
   "name": "python",
   "nbconvert_exporter": "python",
   "pygments_lexer": "ipython3",
   "version": "3.11.2"
  }
 },
 "nbformat": 4,
 "nbformat_minor": 5
}
