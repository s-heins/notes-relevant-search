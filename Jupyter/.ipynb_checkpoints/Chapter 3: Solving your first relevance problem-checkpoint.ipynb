{
 "cells": [
  {
   "cell_type": "markdown",
   "metadata": {},
   "source": [
    "# Relevant Search"
   ]
  },
  {
   "cell_type": "markdown",
   "metadata": {},
   "source": [
    "## Loading TMDB.json into local Elasticsearch"
   ]
  },
  {
   "cell_type": "code",
   "execution_count": 1,
   "metadata": {
    "tags": []
   },
   "outputs": [],
   "source": [
    "import requests  # HTTP lib\n",
    "import json  # json parsing\n",
    "\n",
    "# docker run --name elasticsearch --net elastic -p 9200:9200 -p 9300:9300 -e \"discovery.type=single-node\" -e \"xpack.security.enabled=false\" -t docker.elastic.co/elasticsearch/elasticsearch:8.6.1\n",
    "host = \"http://localhost:9200/\"\n",
    "index = \"tmdb\"\n",
    "indexBaseUrl = host + index\n",
    "headers = {\"Content-Type\": \"application/json\"}"
   ]
  },
  {
   "cell_type": "code",
   "execution_count": 2,
   "metadata": {
    "tags": []
   },
   "outputs": [],
   "source": [
    "def toJsonPrettyPrint(response):\n",
    "    print(json.dumps(json.loads(response), indent=2))"
   ]
  },
  {
   "cell_type": "code",
   "execution_count": 52,
   "metadata": {
    "tags": []
   },
   "outputs": [
    {
     "name": "stdout",
     "output_type": "stream",
     "text": [
      "{\"settings\": {\"number_of_shards\": 1, \"index\": {\"analysis\": {}}}, \"mappings\": {}}\n"
     ]
    },
    {
     "data": {
      "text/plain": [
       "<Response [200]>"
      ]
     },
     "execution_count": 52,
     "metadata": {},
     "output_type": "execute_result"
    }
   ],
   "source": [
    "def extract():\n",
    "    f = open('tmdb.json')\n",
    "    if f:\n",
    "        return json.loads(f.read())\n",
    "\n",
    "\n",
    "def reindex(analysisSettings={}, mappingSettings={}, movieDict={}):\n",
    "    settings = {\n",
    "        \"settings\": {\n",
    "            \"number_of_shards\": 1,\n",
    "            \"index\": {\n",
    "                \"analysis\": analysisSettings,\n",
    "            }\n",
    "        },\n",
    "        \"mappings\": mappingSettings\n",
    "    }\n",
    "\n",
    "    settingsJson = json.dumps(settings)\n",
    "\n",
    "    # print(mappingSettings)\n",
    "    # if mappingSettings:\n",
    "        # settings['mappings'] = json.dumps(mappingSettings)\n",
    "        \n",
    "    print(settingsJson)\n",
    "\n",
    "    requests.delete(host + index)\n",
    "    requests.put(host + index, data=settingsJson, headers=headers)\n",
    "\n",
    "    bulkMovies = \"\"\n",
    "    for id, movie in movieDict.items():\n",
    "        addCmd = {\"index\": {\"_id\": movie[\"id\"]}}\n",
    "        bulkMovies += json.dumps(addCmd) + \"\\n\" + json.dumps(movie) + \"\\n\"\n",
    "\n",
    "    response = requests.post(indexBaseUrl + \"/_bulk\",\n",
    "                             data=bulkMovies, headers=headers)\n",
    "    return response\n",
    "\n",
    "\n",
    "movieDict = extract()\n",
    "reindex(movieDict=movieDict)\n"
   ]
  },
  {
   "cell_type": "markdown",
   "metadata": {},
   "source": [
    "## The search function"
   ]
  },
  {
   "cell_type": "code",
   "execution_count": 76,
   "metadata": {},
   "outputs": [],
   "source": [
    "def search(query: str):\n",
    "    url = indexBaseUrl + \"/_search\"\n",
    "    response = requests.get(url, data=json.dumps(query), headers=headers)\n",
    "\n",
    "    searchHits = json.loads(response.text)['hits']\n",
    "\n",
    "    print(\"Num\\t\\tRelevanceScore\\tMovie Title\")\n",
    "    for idx, hit in enumerate(searchHits['hits']):\n",
    "        # print(\"%s\\t%s\\t\\t%s\" %\n",
    "              # (idx+1, round(hit['_score'], 2), hit['_source']['title']))\n",
    "        relscore = round(hit['_score'], 1)\n",
    "        print('\\t\\t'.join([str(idx+1), f'{relscore:.1f}', str(hit['_source']['title'])]))\n"
   ]
  },
  {
   "cell_type": "code",
   "execution_count": 77,
   "metadata": {},
   "outputs": [
    {
     "name": "stdout",
     "output_type": "stream",
     "text": [
      "Num\t\tRelevanceScore\tMovie Title\n",
      "1\t\t78.76\t\tThe Basketball Diaries\n",
      "2\t\t74.09\t\tAlien\n",
      "3\t\t74.09\t\tAliens\n",
      "4\t\t74.09\t\tAlien³\n",
      "5\t\t59.68\t\tCowboys & Aliens\n",
      "6\t\t59.68\t\tAliens in the Attic\n",
      "7\t\t59.68\t\tAlien: Resurrection\n",
      "8\t\t49.96\t\tMonsters vs Aliens\n",
      "9\t\t42.96\t\tAliens vs Predator: Requiem\n",
      "10\t\t42.96\t\tAVP: Alien vs. Predator\n"
     ]
    }
   ],
   "source": [
    "userSearch = 'basketball with cartoon aliens'\n",
    "query = {\n",
    "    \"query\": {\n",
    "        \"multi_match\": {\n",
    "            \"query\": userSearch,\n",
    "            \"fields\": [\"title^10\", \"overview\"]\n",
    "        }\n",
    "    }\n",
    "}\n",
    "search(query)\n"
   ]
  },
  {
   "cell_type": "markdown",
   "metadata": {},
   "source": [
    "### Validate API"
   ]
  },
  {
   "cell_type": "code",
   "execution_count": 71,
   "metadata": {},
   "outputs": [],
   "source": [
    "def explain(query: str): \n",
    "    url = indexBaseUrl + \"/_validate/query?explain\"\n",
    "    response = requests.get(url, data = json.dumps(query), headers=headers)\n",
    "    toJsonPrettyPrint(response.text)"
   ]
  },
  {
   "cell_type": "code",
   "execution_count": 7,
   "metadata": {},
   "outputs": [
    {
     "name": "stdout",
     "output_type": "stream",
     "text": [
      "{\n",
      "  \"_shards\": {\n",
      "    \"total\": 1,\n",
      "    \"successful\": 1,\n",
      "    \"failed\": 0\n",
      "  },\n",
      "  \"valid\": true,\n",
      "  \"explanations\": [\n",
      "    {\n",
      "      \"index\": \"tmdb\",\n",
      "      \"valid\": true,\n",
      "      \"explanation\": \"((title:basketball title:with title:cartoon title:aliens)^10.0 | (overview:basketball overview:with overview:cartoon overview:aliens))\"\n",
      "    }\n",
      "  ]\n",
      "}\n"
     ]
    }
   ],
   "source": [
    "explain(query)"
   ]
  },
  {
   "cell_type": "markdown",
   "metadata": {},
   "source": [
    "### Analyze API"
   ]
  },
  {
   "cell_type": "code",
   "execution_count": 72,
   "metadata": {},
   "outputs": [
    {
     "name": "stdout",
     "output_type": "stream",
     "text": [
      "{\n",
      "  \"tokens\": [\n",
      "    {\n",
      "      \"token\": \"fire\",\n",
      "      \"start_offset\": 0,\n",
      "      \"end_offset\": 4,\n",
      "      \"type\": \"<ALPHANUM>\",\n",
      "      \"position\": 0\n",
      "    },\n",
      "    {\n",
      "      \"token\": \"with\",\n",
      "      \"start_offset\": 5,\n",
      "      \"end_offset\": 9,\n",
      "      \"type\": \"<ALPHANUM>\",\n",
      "      \"position\": 1\n",
      "    },\n",
      "    {\n",
      "      \"token\": \"fire\",\n",
      "      \"start_offset\": 10,\n",
      "      \"end_offset\": 14,\n",
      "      \"type\": \"<ALPHANUM>\",\n",
      "      \"position\": 2\n",
      "    }\n",
      "  ]\n",
      "}\n"
     ]
    }
   ],
   "source": [
    "analyzeQuery = {\n",
    "    \"analyzer\": \"standard\",\n",
    "    \"text\": \"Fire with Fire\"\n",
    "}\n",
    "response = requests.get(indexBaseUrl + \"/_analyze\", data=json.dumps(analyzeQuery), headers=headers)\n",
    "toJsonPrettyPrint(response.text)"
   ]
  },
  {
   "cell_type": "markdown",
   "metadata": {
    "tags": []
   },
   "source": [
    "## Re-indexing with the English analyzer"
   ]
  },
  {
   "cell_type": "code",
   "execution_count": 64,
   "metadata": {
    "tags": []
   },
   "outputs": [
    {
     "name": "stdout",
     "output_type": "stream",
     "text": [
      "{\"settings\": {\"number_of_shards\": 1, \"index\": {\"analysis\": {}}}, \"mappings\": {\"properties\": {\"title\": {\"type\": \"text\", \"analyzer\": \"english\"}, \"overview\": {\"type\": \"text\", \"analyzer\": \"english\"}}}}\n"
     ]
    },
    {
     "data": {
      "text/plain": [
       "<Response [200]>"
      ]
     },
     "execution_count": 64,
     "metadata": {},
     "output_type": "execute_result"
    }
   ],
   "source": [
    "mappingSettings = {\n",
    "    \"properties\": {\n",
    "        \"title\": {\n",
    "            \"type\": \"text\",\n",
    "            \"analyzer\": \"english\"\n",
    "        },\n",
    "        \"overview\": {\n",
    "            \"type\": \"text\",\n",
    "            \"analyzer\": \"english\"\n",
    "        }\n",
    "    }\n",
    "}\n",
    "\n",
    "movieDict=extract()\n",
    "reindex(mappingSettings=mappingSettings, movieDict=movieDict)"
   ]
  },
  {
   "cell_type": "markdown",
   "metadata": {},
   "source": [
    "We can see that the title now uses the english analyzer:"
   ]
  },
  {
   "cell_type": "code",
   "execution_count": 68,
   "metadata": {
    "tags": []
   },
   "outputs": [
    {
     "name": "stdout",
     "output_type": "stream",
     "text": [
      "{\n",
      "  \"tmdb\": {\n",
      "    \"mappings\": {\n",
      "      \"title\": {\n",
      "        \"full_name\": \"title\",\n",
      "        \"mapping\": {\n",
      "          \"title\": {\n",
      "            \"type\": \"text\",\n",
      "            \"analyzer\": \"english\"\n",
      "          }\n",
      "        }\n",
      "      }\n",
      "    }\n",
      "  }\n",
      "}\n"
     ]
    }
   ],
   "source": [
    "currentTitleMapping = requests.get(indexBaseUrl + \"/_mapping/field/title\")\n",
    "toJsonPrettyPrint(currentTitleMapping.text)"
   ]
  },
  {
   "cell_type": "markdown",
   "metadata": {},
   "source": [
    "### Re-analyzing \"Fire with Fire\" with the new index"
   ]
  },
  {
   "cell_type": "code",
   "execution_count": 73,
   "metadata": {
    "tags": []
   },
   "outputs": [
    {
     "name": "stdout",
     "output_type": "stream",
     "text": [
      "{\n",
      "  \"tokens\": [\n",
      "    {\n",
      "      \"token\": \"fire\",\n",
      "      \"start_offset\": 0,\n",
      "      \"end_offset\": 4,\n",
      "      \"type\": \"<ALPHANUM>\",\n",
      "      \"position\": 0\n",
      "    },\n",
      "    {\n",
      "      \"token\": \"fire\",\n",
      "      \"start_offset\": 10,\n",
      "      \"end_offset\": 14,\n",
      "      \"type\": \"<ALPHANUM>\",\n",
      "      \"position\": 2\n",
      "    }\n",
      "  ]\n",
      "}\n"
     ]
    }
   ],
   "source": [
    "analyzeQuery = {\n",
    "    \"field\": \"title\",\n",
    "    \"text\": \"Fire with Fire\"\n",
    "}\n",
    "response = requests.get(indexBaseUrl + \"/_analyze\", data=json.dumps(analyzeQuery), headers=headers)\n",
    "toJsonPrettyPrint(response.text)"
   ]
  },
  {
   "cell_type": "markdown",
   "metadata": {},
   "source": [
    "\"With\" is now also removed from the title and overview tokens in the explanation:"
   ]
  },
  {
   "cell_type": "code",
   "execution_count": 74,
   "metadata": {
    "tags": []
   },
   "outputs": [
    {
     "name": "stdout",
     "output_type": "stream",
     "text": [
      "{\n",
      "  \"_shards\": {\n",
      "    \"total\": 1,\n",
      "    \"successful\": 1,\n",
      "    \"failed\": 0\n",
      "  },\n",
      "  \"valid\": true,\n",
      "  \"explanations\": [\n",
      "    {\n",
      "      \"index\": \"tmdb\",\n",
      "      \"valid\": true,\n",
      "      \"explanation\": \"((title:basketbal title:cartoon title:alien)^10.0 | (overview:basketbal overview:cartoon overview:alien))\"\n",
      "    }\n",
      "  ]\n",
      "}\n"
     ]
    }
   ],
   "source": [
    "explain(query)"
   ]
  },
  {
   "cell_type": "code",
   "execution_count": 75,
   "metadata": {
    "tags": []
   },
   "outputs": [
    {
     "name": "stdout",
     "output_type": "stream",
     "text": [
      "Num\t\tRelevanceScore\tMovie Title\n",
      "1\t\t78.8\t\tThe Basketball Diaries\n",
      "2\t\t74.1\t\tAlien\n",
      "3\t\t74.1\t\tAliens\n",
      "4\t\t74.1\t\tAlien³\n",
      "5\t\t59.7\t\tCowboys & Aliens\n",
      "6\t\t59.7\t\tAliens in the Attic\n",
      "7\t\t59.7\t\tAlien: Resurrection\n",
      "8\t\t50.0\t\tMonsters vs Aliens\n",
      "9\t\t43.0\t\tAliens vs Predator: Requiem\n",
      "10\t\t43.0\t\tAVP: Alien vs. Predator\n"
     ]
    }
   ],
   "source": [
    "search(query)"
   ]
  }
 ],
 "metadata": {
  "kernelspec": {
   "display_name": "Python 3 (ipykernel)",
   "language": "python",
   "name": "python3"
  },
  "language_info": {
   "codemirror_mode": {
    "name": "ipython",
    "version": 3
   },
   "file_extension": ".py",
   "mimetype": "text/x-python",
   "name": "python",
   "nbconvert_exporter": "python",
   "pygments_lexer": "ipython3",
   "version": "3.11.1"
  },
  "vscode": {
   "interpreter": {
    "hash": "aee8b7b246df8f9039afb4144a1f6fd8d2ca17a180786b69acc140d282b71a49"
   }
  }
 },
 "nbformat": 4,
 "nbformat_minor": 4
}
